{
 "cells": [
  {
   "cell_type": "code",
   "execution_count": null,
   "metadata": {},
   "outputs": [],
   "source": [
    "import h5py\n",
    "import numpy as np\n",
    "import vector\n",
    "import awkward as ak\n",
    "import uproot\n",
    "import boost_histogram as bh\n",
    "import mplhep as hep\n",
    "import matplotlib.pyplot as plt"
   ]
  },
  {
   "cell_type": "code",
   "execution_count": null,
   "metadata": {},
   "outputs": [],
   "source": [
    "#get neutrino mu squared flow data data\n",
    "file = h5py.File('callum_neutrinos.h5', 'r')\n",
    "neutrino_eventnumber = np.array(file[\"eventNumber\"])\n",
    "neutrinos = np.array(file[\"neutrinos\"])\n",
    "file.close()"
   ]
  },
  {
   "cell_type": "code",
   "execution_count": null,
   "metadata": {},
   "outputs": [],
   "source": [
    "#get original test data\n",
    "file = h5py.File('callum_test.h5', 'r')\n",
    "number_jets = np.array(file['atlas/njets'])\n",
    "met = np.array(file[\"atlas/MET\"])\n",
    "original_eventnumber = np.array(file[\"atlas/eventNumber\"])          #neutrino kinematics here in possibly better format so if not working use this instead!\n",
    "jets = np.array(file[\"atlas/jets\"])\n",
    "original_neutrinos = np.array(file[\"atlas/neutrinos\"])\n",
    "leptons = np.array(file[\"atlas/leptons\"])\n",
    "file.close()"
   ]
  },
  {
   "cell_type": "code",
   "execution_count": null,
   "metadata": {},
   "outputs": [],
   "source": [
    "#get file data\n",
    "file = h5py.File('results.h5', 'r')\n",
    "results_eventnumber = np.array(file[\"event/eventnumber\"])\n",
    "results_b = vector.zip({'pt': np.array(file[\"bjet/pt\"]), 'phi': np.array(file[\"bjet/phi\"]), 'eta': np.array(file[\"bjet/eta\"]), 'm': np.array(file[\"bjet/m\"])})\n",
    "results_bbar = vector.zip({'pt': np.array(file[\"bbarjet/pt\"]), 'phi': np.array(file[\"bbarjet/phi\"]), 'eta': np.array(file[\"bbarjet/eta\"]), 'm': np.array(file[\"bbarjet/m\"])})\n",
    "results_lep_pos = vector.zip({'pt': np.array(file[\"positive_lep/pt\"]), 'phi': np.array(file[\"positive_lep/phi\"]), 'eta': np.array(file[\"positive_lep/eta\"]), 'm': np.array(file[\"positive_lep/m\"])})\n",
    "results_lep_neg = vector.zip({'pt': np.array(file[\"negative_lep/pt\"]), 'phi': np.array(file[\"negative_lep/phi\"]), 'eta': np.array(file[\"negative_lep/eta\"]), 'm': np.array(file[\"negative_lep/m\"])})\n",
    "file.close()"
   ]
  },
  {
   "cell_type": "code",
   "execution_count": null,
   "metadata": {},
   "outputs": [],
   "source": []
  },
  {
   "cell_type": "code",
   "execution_count": null,
   "metadata": {},
   "outputs": [],
   "source": [
    "#get truth skimmed data \n",
    "tree = uproot.open(\"ttbar_skimmed_july9_v2.root:truth\")\n",
    "match_correct_truth_events_mask = np.isin(tree[\"eventNumber\"].array(), results_eventnumber)\n",
    "#get truth top antitop vectors\n",
    "\n",
    "truth_top = vector.zip({'pt': tree[\"t_pt\"].array(), 'eta': tree[\"t_eta\"].array(), 'phi': tree[\"t_phi\"].array(), 'm': tree[\"t_mass\"].array()})[match_correct_truth_events_mask]\n",
    "truth_antitop = vector.zip({'pt': tree[\"tbar_pt\"].array(), 'eta': tree[\"tbar_eta\"].array(), 'phi': tree[\"tbar_phi\"].array(), 'm': tree[\"tbar_mass\"].array()})[match_correct_truth_events_mask]\n",
    "truth_b = vector.zip({'pt': tree[\"b_pt\"].array(), 'eta': tree[\"b_eta\"].array(), 'phi': tree[\"b_phi\"].array(), 'm': tree[\"b_mass\"].array()})[match_correct_truth_events_mask]\n",
    "truth_bbar = vector.zip({'pt': tree[\"bbar_pt\"].array(), 'eta': tree[\"bbar_eta\"].array(), 'phi': tree[\"bbar_phi\"].array(), 'm': tree[\"bbar_mass\"].array()})[match_correct_truth_events_mask]\n",
    "truth_lep_neg= vector.zip({'pt': tree[\"lp_pt\"].array(), 'eta': tree[\"lp_eta\"].array(), 'phi': tree[\"lp_phi\"].array(), 'm': tree[\"lp_mass\"].array()})[match_correct_truth_events_mask]\n",
    "truth_lep_pos = vector.zip({'pt': tree[\"lm_pt\"].array(), 'eta': tree[\"lm_eta\"].array(), 'phi': tree[\"lm_phi\"].array(), 'm': tree[\"lm_mass\"].array()})[match_correct_truth_events_mask]"
   ]
  },
  {
   "cell_type": "code",
   "execution_count": null,
   "metadata": {},
   "outputs": [],
   "source": [
    "#get truth neutrinos\n",
    "nu_truth = vector.zip({'pt': tree[\"nu_pt\"].array(), 'eta': tree[\"nu_eta\"].array(), 'phi': tree[\"nu_phi\"].array(), 'm': tree[\"nu_mass\"].array()})[match_correct_truth_events_mask]\n",
    "nubar_truth = vector.zip({'pt': tree[\"nubar_pt\"].array(), 'eta': tree[\"nubar_eta\"].array(), 'phi': tree[\"nubar_phi\"].array(), 'm': tree[\"nubar_mass\"].array()})[match_correct_truth_events_mask]\n"
   ]
  },
  {
   "cell_type": "code",
   "execution_count": null,
   "metadata": {},
   "outputs": [],
   "source": [
    "match_correct_events_mask = np.isin(neutrino_eventnumber, results_eventnumber)\n",
    "\n",
    "nu_sq = vector.zip({'px': neutrinos[:,0,0], 'py': neutrinos[:,0,1], 'pz': neutrinos[:,0,2], 'm': 0})[match_correct_events_mask]\n",
    "nubar_sq = vector.zip({'px': neutrinos[:,1,0], 'py': neutrinos[:,1,1], 'pz': neutrinos[:,1,2], 'm': 0})[match_correct_events_mask]\n",
    "\n",
    "#this one uses the original test file not the neutrino.h5 file which was newer\n",
    "# neutrinos_t = vector.zip({'pt': original_neutrinos[:,0][\"pt\"], 'phi': original_neutrinos[:,0][\"phi\"], 'eta': original_neutrinos[:,0][\"eta\"], 'm': original_neutrinos[:,0][\"mass\"]})[match_correct_events_mask]\n",
    "# neutrinos_tbar = vector.zip({'pt': original_neutrinos[:,1][\"pt\"], 'phi': original_neutrinos[:,1][\"phi\"], 'eta': original_neutrinos[:,1][\"eta\"], 'm': original_neutrinos[:,1][\"mass\"]})[match_correct_events_mask]\n"
   ]
  },
  {
   "cell_type": "code",
   "execution_count": null,
   "metadata": {},
   "outputs": [],
   "source": [
    "#get random jet assignment\n",
    "import random\n",
    "random_mask = [random.choice([True, False]) for _ in range(len(results_b))]\n",
    "random_b = np.where(random_mask, results_b, results_bbar)\n",
    "random_bbar = np.where(random_mask, results_bbar, results_b)\n",
    "random_lep_pos = results_lep_pos\n",
    "random_lep_neg = results_lep_neg\n",
    "\n",
    "#make just delta R assignments\n",
    "rmatch_mask = (random_b.deltaR(random_lep_pos))<(random_b.deltaR(random_lep_neg))\n",
    "rmatch_b = np.where(rmatch_mask, random_b, random_bbar)\n",
    "rmatch_bbar = np.where(rmatch_mask, random_bbar, random_b)\n",
    "rmatch_lep_pos = results_lep_pos\n",
    "rmatch_lep_neg = results_lep_neg"
   ]
  },
  {
   "cell_type": "code",
   "execution_count": null,
   "metadata": {},
   "outputs": [],
   "source": [
    "#get neutrinos from other recon methods\n",
    "treerecon = uproot.open(\"ttbar_skimmed_july9_v2.root:recon\")\n",
    "match_correct_neutrino_recon_events_mask = np.isin(treerecon[\"eventNumber\"].array(), results_eventnumber)\n",
    "neutrino_recons_eventnumbers = treerecon[\"eventNumber\"].array()[match_correct_neutrino_recon_events_mask]\n",
    "nu_EM = vector.zip({'pt': treerecon[\"EM_nu_pt\"].array(), 'eta': treerecon[\"EM_nu_eta\"].array(), 'phi': treerecon[\"EM_nu_phi\"].array(), 'm': treerecon[\"EM_nu_m\"].array()})[match_correct_neutrino_recon_events_mask]\n",
    "nubar_EM = vector.zip({'pt': treerecon[\"EM_nubar_pt\"].array(), 'eta': treerecon[\"EM_nubar_eta\"].array(), 'phi': treerecon[\"EM_nubar_phi\"].array(), 'm': treerecon[\"EM_nubar_m\"].array()})[match_correct_neutrino_recon_events_mask]\n",
    "nu_SN = vector.zip({'pt': treerecon[\"SN_nu_pt\"].array(), 'eta': treerecon[\"SN_nu_eta\"].array(), 'phi': treerecon[\"SN_nu_phi\"].array(), 'm': treerecon[\"SN_nu_m\"].array()})[match_correct_neutrino_recon_events_mask]\n",
    "nubar_SN = vector.zip({'pt': treerecon[\"SN_nubar_pt\"].array(), 'eta': treerecon[\"SN_nubar_eta\"].array(), 'phi': treerecon[\"SN_nubar_phi\"].array(), 'm': treerecon[\"SN_nubar_m\"].array()})[match_correct_neutrino_recon_events_mask]\n",
    "nu_NW = vector.zip({'pt': treerecon[\"NW_nu_pt\"].array(), 'eta': treerecon[\"NW_nu_eta\"].array(), 'phi': treerecon[\"NW_nu_phi\"].array(), 'm': treerecon[\"NW_nu_m\"].array()})[match_correct_neutrino_recon_events_mask]\n",
    "nubar_NW = vector.zip({'pt': treerecon[\"NW_nubar_pt\"].array(), 'eta': treerecon[\"NW_nubar_eta\"].array(), 'phi': treerecon[\"NW_nubar_phi\"].array(), 'm': treerecon[\"NW_nubar_m\"].array()})[match_correct_neutrino_recon_events_mask]"
   ]
  },
  {
   "cell_type": "code",
   "execution_count": null,
   "metadata": {},
   "outputs": [],
   "source": [
    "len(nu_EM)"
   ]
  },
  {
   "cell_type": "code",
   "execution_count": null,
   "metadata": {},
   "outputs": [],
   "source": [
    "#results of DNN with different neutrino reconstructions\n",
    "results_EM_top = nu_EM + results_b + results_lep_pos\n",
    "results_EM_antitop = nubar_EM + results_bbar + results_lep_neg\n",
    "results_EM_ttbar = results_EM_top+results_EM_antitop\n",
    "\n",
    "results_SN_top = nu_SN + results_b + results_lep_pos\n",
    "results_SN_antitop = nubar_SN + results_bbar + results_lep_neg\n",
    "results_SN_ttbar = results_SN_top+results_SN_antitop\n",
    "\n",
    "results_NW_top = nu_NW + results_b + results_lep_pos\n",
    "results_NW_antitop = nubar_NW + results_bbar + results_lep_neg\n",
    "results_NW_ttbar = results_NW_top+results_NW_antitop\n",
    "\n",
    "results_sq_top = nu_sq + results_b + results_lep_pos\n",
    "results_sq_antitop = nubar_sq + results_bbar + results_lep_neg\n",
    "results_sq_ttbar = results_sq_top+results_sq_antitop\n",
    "\n",
    "truth_ttbar = truth_top + truth_antitop"
   ]
  },
  {
   "cell_type": "code",
   "execution_count": null,
   "metadata": {},
   "outputs": [],
   "source": [
    "#results of DNN, rmatching, random assignment with truth neutrinos\n",
    "results_top = nu_truth + results_b + results_lep_pos\n",
    "results_antitop = nubar_truth + results_bbar + results_lep_neg\n",
    "results_ttbar = results_top+results_antitop\n",
    "\n",
    "random_top = nu_truth + random_b + random_lep_pos\n",
    "random_antitop = nubar_truth + random_bbar + random_lep_neg\n",
    "random_ttbar = random_top+random_antitop\n",
    "\n",
    "rmatch_top = nu_truth + rmatch_b + rmatch_lep_pos\n",
    "rmatch_antitop = nubar_truth + rmatch_bbar + rmatch_lep_neg\n",
    "rmatch_ttbar = rmatch_top+rmatch_antitop"
   ]
  },
  {
   "cell_type": "code",
   "execution_count": null,
   "metadata": {},
   "outputs": [],
   "source": [
    "#results of DNN, rmatching, random assignment with WITH SQ NEUTRINOS\n",
    "sq_results_top = nu_sq + results_b + results_lep_pos\n",
    "sq_results_antitop = nubar_sq + results_bbar + results_lep_neg\n",
    "sq_results_ttbar = sq_results_top+sq_results_antitop\n",
    "\n",
    "sq_random_top = nu_sq + random_b + random_lep_pos\n",
    "sq_random_antitop = nubar_sq + random_bbar + random_lep_neg\n",
    "sq_random_ttbar = sq_random_top+sq_random_antitop\n",
    "\n",
    "sq_rmatch_top = nu_sq + rmatch_b + rmatch_lep_pos\n",
    "sq_rmatch_antitop = nubar_sq + rmatch_bbar + rmatch_lep_neg\n",
    "sq_rmatch_ttbar = sq_rmatch_top+sq_rmatch_antitop"
   ]
  },
  {
   "cell_type": "code",
   "execution_count": null,
   "metadata": {},
   "outputs": [],
   "source": [
    "#get neutrinos from DNN regressor task \n",
    "file = h5py.File('DNN_output.h5', 'r')\n",
    "DNN_eventnumber = np.array(file[\"DNN/eventnumber\"]).flatten()\n",
    "match_correct_DNN_neutrino_in_recon_mask = np.isin(DNN_eventnumber, neutrino_recons_eventnumbers)\n",
    "match_correct_truth_in_neutrinoDNN_mask = np.isin(neutrino_recons_eventnumbers, DNN_eventnumber)\n",
    "DNN_nu_px=np.array(file[\"DNN/nu_px\"])\n",
    "DNN_nu_py=np.array(file[\"DNN/nu_py\"])\n",
    "DNN_nu_pz=np.array(file[\"DNN/nu_pz\"])\n",
    "DNN_nubar_px=np.array(file[\"DNN/nubar_px\"])\n",
    "DNN_nubar_py=np.array(file[\"DNN/nubar_py\"])\n",
    "DNN_nubar_pz=np.array(file[\"DNN/nubar_pz\"])\n",
    "\n",
    "\n",
    "\n",
    "file.close()"
   ]
  },
  {
   "cell_type": "code",
   "execution_count": null,
   "metadata": {},
   "outputs": [],
   "source": []
  },
  {
   "cell_type": "code",
   "execution_count": 357,
   "metadata": {},
   "outputs": [],
   "source": [
    "#make results for DNN neutrino plus truth particles to see effectiveness of neutrino reconstruction DNN\n",
    "#THIS IS SPAGHETTI CODE BUT EASIEST WAY FOR NOW AS DONT WANT TO CHANGE ALL MY MASKS. REGETTING THE CORRECT TRUTH VALUES TO CORRESPOND TO MY DNN NEUTRINOS\n",
    "mask_truth_in_DNNneutrinos = np.isin(tree[\"eventNumber\"].array(), DNN_eventnumber)\n",
    "\n",
    "truth_top_4_DNN_nu = vector.zip({'pt': tree[\"t_pt\"].array(), 'eta': tree[\"t_eta\"].array(), 'phi': tree[\"t_phi\"].array(), 'm': tree[\"t_mass\"].array()})[mask_truth_in_DNNneutrinos]\n",
    "truth_antitop_4_DNN_nu = vector.zip({'pt': tree[\"tbar_pt\"].array(), 'eta': tree[\"tbar_eta\"].array(), 'phi': tree[\"tbar_phi\"].array(), 'm': tree[\"tbar_mass\"].array()})[mask_truth_in_DNNneutrinos]\n",
    "truth_b_4_DNN_nu = vector.zip({'pt': tree[\"b_pt\"].array(), 'eta': tree[\"b_eta\"].array(), 'phi': tree[\"b_phi\"].array(), 'm': tree[\"b_mass\"].array()})[mask_truth_in_DNNneutrinos]\n",
    "truth_bbar_4_DNN_nu = vector.zip({'pt': tree[\"bbar_pt\"].array(), 'eta': tree[\"bbar_eta\"].array(), 'phi': tree[\"bbar_phi\"].array(), 'm': tree[\"bbar_mass\"].array()})[mask_truth_in_DNNneutrinos]\n",
    "truth_lep_neg_4_DNN_nu = vector.zip({'pt': tree[\"lp_pt\"].array(), 'eta': tree[\"lp_eta\"].array(), 'phi': tree[\"lp_phi\"].array(), 'm': tree[\"lp_mass\"].array()})[mask_truth_in_DNNneutrinos]\n",
    "truth_lep_pos_4_DNN_nu = vector.zip({'pt': tree[\"lm_pt\"].array(), 'eta': tree[\"lm_eta\"].array(), 'phi': tree[\"lm_phi\"].array(), 'm': tree[\"lm_mass\"].array()})[mask_truth_in_DNNneutrinos]\n",
    "\n",
    "nu_DNN = vector.zip({'px': DNN_nu_px, 'py': DNN_nu_py, 'pz': DNN_nu_pz, 'm': 0})\n",
    "nubar_DNN = vector.zip({'px': DNN_nubar_px, 'py': DNN_nubar_py, 'pz': DNN_nubar_pz, 'm': 0})\n",
    "\n",
    "nu_DNN_top = nu_DNN + truth_b_4_DNN_nu + truth_lep_pos_4_DNN_nu\n",
    "nu_DNN_antitop = nubar_DNN + truth_bbar_4_DNN_nu + truth_lep_neg_4_DNN_nu\n",
    "nu_DNN_ttbar = nu_DNN_top+nu_DNN_antitop\n",
    "\n"
   ]
  },
  {
   "cell_type": "code",
   "execution_count": 362,
   "metadata": {},
   "outputs": [],
   "source": [
    "#make vectors with just neutrino reconstruction and truth particles to directly compare neutrino DNN only using top reconstruction properties\n",
    "nu_EM_top = nu_EM + truth_b + truth_lep_pos\n",
    "nu_EM_antitop = nubar_EM + truth_bbar + truth_lep_neg\n",
    "nu_EM_ttbar = nu_EM_top+nu_EM_antitop\n",
    "\n",
    "nu_SN_top = nu_SN + truth_b + truth_lep_pos\n",
    "nu_SN_antitop = nubar_SN + truth_bbar + truth_lep_neg\n",
    "nu_SN_ttbar = nu_SN_top+nu_SN_antitop\n",
    "\n",
    "nu_NW_top = nu_NW + truth_b + truth_lep_pos\n",
    "nu_NW_antitop = nubar_NW + truth_bbar + truth_lep_neg\n",
    "nu_NW_ttbar = nu_NW_top+nu_EM_antitop"
   ]
  },
  {
   "cell_type": "code",
   "execution_count": null,
   "metadata": {},
   "outputs": [],
   "source": []
  },
  {
   "cell_type": "code",
   "execution_count": 358,
   "metadata": {},
   "outputs": [],
   "source": []
  },
  {
   "cell_type": "code",
   "execution_count": null,
   "metadata": {},
   "outputs": [],
   "source": [
    "#now here we make sure we match DNN events from bjet DNN with neutrino DNN\n",
    "bjet_in_neutrino_mask = np.isin(results_eventnumber, DNN_eventnumber)\n",
    "neutrino_in_bjet_mask = np.isin(DNN_eventnumber, results_eventnumber)\n",
    "\n",
    "combined_results_b = results_b[bjet_in_neutrino_mask]\n",
    "combined_results_bbar = results_bbar[bjet_in_neutrino_mask]\n",
    "combined_results_lep_pos = results_lep_pos[bjet_in_neutrino_mask]\n",
    "combined_results_lep_neg = results_lep_neg[bjet_in_neutrino_mask]\n",
    "\n",
    "nu_combined = vector.zip({'px': DNN_nu_px, 'py': DNN_nu_py, 'pz': DNN_nu_pz, 'm': 0})[neutrino_in_bjet_mask]\n",
    "nubar_combined = vector.zip({'px': DNN_nubar_px, 'py': DNN_nubar_py, 'pz': DNN_nubar_pz, 'm': 0})[neutrino_in_bjet_mask]\n",
    "\n",
    "#make combined results\n",
    "combined_results_top = nu_combined + combined_results_b + combined_results_lep_pos\n",
    "combined_results_antitop = nubar_combined + combined_results_bbar + combined_results_lep_neg\n",
    "combined_results_ttbar = combined_results_top+combined_results_antitop\n"
   ]
  },
  {
   "cell_type": "code",
   "execution_count": 390,
   "metadata": {},
   "outputs": [
    {
     "name": "stderr",
     "output_type": "stream",
     "text": [
      "No artists with labels found to put in legend.  Note that artists whose label start with an underscore are ignored when legend() is called with no argument.\n"
     ]
    },
    {
     "data": {
      "image/png": "[encoded data removed]",
      "text/plain": [
       "<Figure size 1000x1200 with 2 Axes>"
      ]
     },
     "metadata": {},
     "output_type": "display_data"
    }
   ],
   "source": [
    "#invariant mas not looking right for reconstructed\n",
    "\n",
    "def originalplotter(data1,data2,data3,label1,label2,label3,title,x_axis_label,y_axis_label,bins,xmin,xmax,data4,label4,save,data5,label5):\n",
    "    # Use the ATLAS style for the plot\n",
    "    hep.style.use(hep.style.ATLAS)\n",
    "\n",
    "    # Create histograms with the specified bins\n",
    "    hist1 = bh.Histogram(bh.axis.Regular(bins, xmin, xmax))  \n",
    "    hist2 = bh.Histogram(bh.axis.Regular(bins, xmin, xmax)) \n",
    "    hist3 = bh.Histogram(bh.axis.Regular(bins, xmin, xmax)) \n",
    "    hist4 = bh.Histogram(bh.axis.Regular(bins, xmin, xmax))\n",
    "    hist5 = bh.Histogram(bh.axis.Regular(bins, xmin, xmax))\n",
    "\n",
    "  \n",
    "\n",
    "    # Fill the histograms with the data\n",
    "    hist1.fill(data1) \n",
    "    hist2.fill(data2)  \n",
    "    hist3.fill(data3)\n",
    "    hist4.fill(data4)\n",
    "    hist5.fill(data5)\n",
    "    \n",
    "    hist1 /= hist1.sum()\n",
    "    hist2 /= hist2.sum()\n",
    "    hist3 /= hist3.sum()\n",
    "    hist4 /= hist4.sum()\n",
    "    hist5 /= hist5.sum()\n",
    "\n",
    "\n",
    "    # Plot the histograms\n",
    "    fig, (ax1, ax2) = plt.subplots(2, 1, gridspec_kw={'height_ratios': [4, 2]}, figsize=(10, 12))\n",
    "\n",
    "    # Main plot\n",
    "    hep.histplot(hist1, label=label1, ax=ax1, color = \"olivedrab\", lw=2, histtype=\"fill\"  )\n",
    "    hep.histplot(hist2, label=label2, ax=ax1, color = \"orange\", lw=2, linestyle = \"-\")\n",
    "    hep.histplot(hist3, label=label3, ax=ax1, color = \"purple\", lw=2, linestyle=\"-\")\n",
    "    # hep.histplot(hist4, label=label4, ax=ax1, color = \"red\", lw=2, linestyle=\"-\")\n",
    "    # hep.histplot(hist5, label=label5, ax=ax1, color = \"purple\", lw=2, linestyle=\"-\")\n",
    "    ax1.set_xlabel(\"\")\n",
    "    ax1.set_ylabel(y_axis_label)\n",
    "    ax1.tick_params(axis='x', which='both', bottom=True, top=True, labelbottom=False)\n",
    "    ax1.legend()\n",
    "\n",
    "    # Calculate the ratio/residuals\n",
    "    ratio1 = hist2.view() / hist1.view()\n",
    "    ratio2 = hist3.view() / hist1.view()\n",
    "    ratio3 = hist4.view() / hist1.view()\n",
    "    ratio4 = hist5.view() / hist1.view()\n",
    "\n",
    "\n",
    "\n",
    "    # Plot the ratio/residuals\n",
    "    edges = hist1.axes[0].edges\n",
    "\n",
    "    ax2.step(edges[:-1], ratio1, where='mid', color = \"orange\", lw=2)\n",
    "    ax2.step(edges[:-1], ratio2, where='mid', color = \"purple\", lw=2, alpha=1)\n",
    "    # ax2.step(edges[:-1], ratio3, where='mid', color = \"red\", lw=2, alpha=1)\n",
    "    # ax2.step(edges[:-1], ratio4, where='mid', color = \"purple\", lw=2, alpha=1)\n",
    "    ax2.step(edges[:-1], np.ones((bins,2)), where='mid', color = \"black\", linestyle=\"--\")\n",
    "    ax2.set_xlabel(x_axis_label)\n",
    "    ax2.legend()\n",
    "\n",
    "\n",
    "    if save is True:\n",
    "        plt.savefig(f\"newplots/{title}.png\", dpi=500)\n",
    "        plt.show()\n",
    "    \n",
    "data1=(truth_ttbar).eta\n",
    "data2=(results_EM_ttbar).eta\n",
    "data3=(combined_results_ttbar).eta\n",
    "data4=(nu_NW_ttbar).eta\n",
    "data5=(nu_DNN_ttbar).eta\n",
    "\n",
    "\n",
    "label1 = \"truth\"\n",
    "label2 = \"bjet DNN + EM neutrino\"\n",
    "label3 = \"bjet DNN + DNN neutrino\"\n",
    "label4 = \"NW\"\n",
    "label5 = \"DNN\"\n",
    "\n",
    "title = \"ttbar eta COMBINED\"\n",
    "x_axis_label = r'$eta_{t\\bar{t}}$'\n",
    "y_axis_label = \"No. events (normalised)\"\n",
    "bins=10\n",
    "xmin=-5\n",
    "xmax=5\n",
    "save=True\n",
    "originalplotter(data1,data2,data3,label1,label2,label3,title,x_axis_label,y_axis_label,bins,xmin,xmax,data4,label4,save,data5,label5)"
   ]
  },
  {
   "cell_type": "code",
   "execution_count": null,
   "metadata": {},
   "outputs": [],
   "source": [
    "#plot graphs for truth and recon ttbar kinematics\n",
    "\n",
    "\n",
    "def differenceplotter(data1,data2,data3,label1,label2,label3,title,x_axis_label,y_axis_label,bins,xmin,xmax,save):\n",
    "    # Use the ATLAS style for the plot\n",
    "    hep.style.use(hep.style.ATLAS)\n",
    "\n",
    "    # Create histograms with the specified bins\n",
    "    hist1 = bh.Histogram(bh.axis.Regular(bins, xmin, xmax))  \n",
    "    hist2 = bh.Histogram(bh.axis.Regular(bins, xmin, xmax)) \n",
    "    hist3 = bh.Histogram(bh.axis.Regular(bins, xmin, xmax)) \n",
    "    hist4 = bh.Histogram(bh.axis.Regular(bins, xmin, xmax)) \n",
    "\n",
    "    # Fill the histograms with the data\n",
    "    hist1.fill(data1) \n",
    "    hist2.fill(data2)  \n",
    "    hist3.fill(data3)\n",
    "    hist4.fill(data4)\n",
    "\n",
    "    # Main plot\n",
    "    hep.histplot(hist1, label=label1, color = \"blue\", lw=1, linestyle = \"-\", yerr=0)\n",
    "    hep.histplot(hist2, label=label2, color = \"orange\", lw=1, linestyle=\"-\", yerr=0)\n",
    "    hep.histplot(hist3, label=label3, color = \"green\", lw=1, linestyle=\"-\", yerr=0)\n",
    "    hep.histplot(hist4, label=label4, color = \"red\", lw=1, linestyle=\"-\", yerr=0)\n",
    "\n",
    "    plt.ylabel(y_axis_label)\n",
    "    plt.legend()\n",
    "    \n",
    "    plt.xlabel(x_axis_label)\n",
    "    if save is True:\n",
    "        plt.savefig(f\"newplots/{title}.png\", dpi=500)\n",
    "    plt.show()\n",
    "    \n",
    "data1=(truth_ttbar).M-(results_sq_ttbar).M\n",
    "data2=(truth_ttbar).M-(results_EM_ttbar).M\n",
    "data3=(truth_ttbar).M-(results_SN_ttbar).M\n",
    "data4=(truth_ttbar).M-(results_NW_ttbar).M\n",
    "\n",
    "label1 = r'${\\mu}^2$'\n",
    "label2 = \"EM\"\n",
    "label3 = \"SN\"\n",
    "label4 = \"NW\"\n",
    "\n",
    "title = \"with DNN and different neutrinos ttbar M\"\n",
    "x_axis_label = r'${\\Delta}M_{t{\\bar{t}}}/GeV$'\n",
    "y_axis_label = \"No. events (normalised)\"\n",
    "bins=25\n",
    "xmin=-300\n",
    "xmax=300\n",
    "save=True\n",
    "differenceplotter(data1,data2,data3,label1,label2,label3,title,x_axis_label,y_axis_label,bins,xmin,xmax,save)"
   ]
  },
  {
   "cell_type": "code",
   "execution_count": null,
   "metadata": {},
   "outputs": [],
   "source": [
    "nu_truth = vector.zip({'pt': tree[\"nu_pt\"].array(), 'eta': tree[\"nu_eta\"].array(), 'phi': tree[\"nu_phi\"].array(), 'm': tree[\"nu_mass\"].array()})[match_correct_truth_events_mask]\n",
    "nubar_truth = vector.zip({'pt': tree[\"nubar_pt\"].array(), 'eta': tree[\"nubar_eta\"].array(), 'phi': tree[\"nubar_phi\"].array(), 'm': tree[\"nubar_mass\"].array()})[match_correct_truth_events_mask]\n"
   ]
  },
  {
   "cell_type": "code",
   "execution_count": null,
   "metadata": {},
   "outputs": [],
   "source": []
  }
 ],
 "metadata": {
  "kernelspec": {
   "display_name": "Python 3",
   "language": "python",
   "name": "python3"
  },
  "language_info": {
   "codemirror_mode": {
    "name": "ipython",
    "version": 3
   },
   "file_extension": ".py",
   "mimetype": "text/x-python",
   "name": "python",
   "nbconvert_exporter": "python",
   "pygments_lexer": "ipython3",
   "version": "3.11.7"
  }
 },
 "nbformat": 4,
 "nbformat_minor": 2
}
