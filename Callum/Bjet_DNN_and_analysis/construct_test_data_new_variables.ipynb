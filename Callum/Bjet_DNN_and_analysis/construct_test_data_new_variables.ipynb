{
 "cells": [
  {
   "cell_type": "code",
   "execution_count": 2,
   "metadata": {},
   "outputs": [],
   "source": [
    "import h5py\n",
    "import numpy as np\n",
    "import vector\n",
    "import awkward as ak\n",
    "import uproot\n",
    "file = h5py.File('callum_test.h5', 'r')\n",
    "\n",
    "# Access the dataset\n",
    "number_jets = np.array(file['atlas/njets'])\n",
    "met = np.array(file[\"atlas/MET\"])\n",
    "eventnumber = np.array(file[\"atlas/eventNumber\"])\n",
    "jets = np.array(file[\"atlas/jets\"])\n",
    "leptons = np.array(file[\"atlas/leptons\"])\n",
    "neutrinos = np.array(file[\"atlas/neutrinos\"])"
   ]
  },
  {
   "cell_type": "code",
   "execution_count": 3,
   "metadata": {},
   "outputs": [],
   "source": [
    "lepton_pt = leptons['pt']\n",
    "lepton_eta = leptons['eta']\n",
    "lepton_phi = leptons['phi']\n",
    "lepton_energy = leptons['energy']\n",
    "lepton_charge = leptons['charge']\n",
    "lepton_type = leptons['type']\n",
    "jets_pt = jets['pt']\n",
    "jets_eta = jets['eta']\n",
    "jets_phi = jets['phi']\n",
    "jets_energy = jets['energy']\n",
    "jets_isbtagged = jets[\"is_tagged\"]"
   ]
  },
  {
   "cell_type": "code",
   "execution_count": 4,
   "metadata": {},
   "outputs": [],
   "source": [
    "two_b_jets_mask = np.sum(jets_isbtagged,axis=1)==2\n",
    "two_opposite_leptons_mask = lepton_charge[:,0]+lepton_charge[:,1] == 0\n",
    "clear_up_mask = two_opposite_leptons_mask & two_b_jets_mask\n",
    "jets_which_are_btagged = jets_isbtagged[clear_up_mask]\n",
    "recon_j1=vector.zip({'pt': jets_pt[clear_up_mask][jets_which_are_btagged][::2], 'eta': jets_eta[clear_up_mask][jets_which_are_btagged][::2], 'phi': jets_phi[clear_up_mask][jets_which_are_btagged][::2], 'e': jets_energy[clear_up_mask][jets_which_are_btagged][::2]})\n",
    "recon_j2=vector.zip({'pt': jets_pt[clear_up_mask][jets_which_are_btagged][1::2], 'eta': jets_eta[clear_up_mask][jets_which_are_btagged][1::2], 'phi': jets_phi[clear_up_mask][jets_which_are_btagged][1::2], 'e': jets_energy[clear_up_mask][jets_which_are_btagged][1::2]})\n",
    "recon_leptons=vector.zip({'pt': lepton_pt, 'eta': lepton_eta, 'phi': lepton_phi, 'e': lepton_energy})[clear_up_mask]\n",
    "lepton_positive_charge_mask = lepton_charge[clear_up_mask]==1\n",
    "lepton_negative_charge_mask = lepton_charge[clear_up_mask]==-1\n",
    "recon_lep_positive = recon_leptons[lepton_positive_charge_mask]\n",
    "recon_lep_negative = recon_leptons[lepton_negative_charge_mask]"
   ]
  },
  {
   "cell_type": "code",
   "execution_count": 5,
   "metadata": {},
   "outputs": [],
   "source": [
    "#detla R\n",
    "signal_delta_r_jet1_positive = recon_lep_positive.deltaR(recon_j1)\n",
    "signal_delta_r_jet2_negative = recon_lep_negative.deltaR(recon_j2)\n",
    "#bl invariant mass\n",
    "signal_invmass_jet1_positive = (recon_j1+recon_lep_positive).m\n",
    "signal_invmass_jet2_negative = (recon_j2+recon_lep_negative).m\n",
    "#delta eta \n",
    "signal_delta_eta_jet1_positive = recon_lep_positive.deltaeta(recon_j1)\n",
    "signal_delta_eta_jet2_negative = recon_lep_negative.deltaeta(recon_j2)\n",
    "#combined pt of bl\n",
    "signal_combined_pt_jet1_positive = (recon_lep_positive+recon_j1).pt\n",
    "signal_combined_pt_jet2_negative = (recon_lep_negative+recon_j2).pt\n",
    "#delta_r between clusters\n",
    "signal_cluster_delta_r_jet1_positive = (recon_lep_positive+recon_j1).deltaR(recon_lep_negative+recon_j2)\n",
    "signal_cluster_delta_r_jet2_negative = (recon_lep_positive+recon_j1).deltaR(recon_lep_negative+recon_j2)\n",
    "#delta_eta between clusters\n",
    "signal_cluster_delta_eta_jet1_positive = (recon_lep_positive+recon_j1).deltaeta(recon_lep_negative+recon_j2)\n",
    "signal_cluster_delta_eta_jet2_negative = (recon_lep_positive+recon_j1).deltaeta(recon_lep_negative+recon_j2)\n",
    "#magnitude of delta_eta + delta_R\n",
    "signal_mag_de_dr_jet1_positive = np.abs(signal_delta_eta_jet1_positive + signal_delta_r_jet1_positive)\n",
    "signal_mag_de_dr_jet2_negative = np.abs(signal_delta_eta_jet2_negative + signal_delta_r_jet2_negative)\n",
    "\n",
    "#bl energy\n",
    "signal_energy_jet1_positive = (recon_j1+recon_lep_positive).e\n",
    "signal_energy_jet2_negative = (recon_j2+recon_lep_negative).e\n",
    "\n",
    "#delta angle\n",
    "signal_delta_angle_jet1_positive = recon_lep_positive.deltaangle(recon_j1)\n",
    "signal_delta_angle_jet2_negative = recon_lep_negative.deltaangle(recon_j2)"
   ]
  },
  {
   "cell_type": "code",
   "execution_count": 6,
   "metadata": {},
   "outputs": [
    {
     "name": "stdout",
     "output_type": "stream",
     "text": [
      "done\n"
     ]
    }
   ],
   "source": [
    "h5_file = h5py.File(\"data.h5\", 'w')\n",
    "group = h5_file.create_group('Objects')\n",
    "group.create_dataset(\"delta_r_b\", data=signal_delta_r_jet1_positive[:])\n",
    "group.create_dataset(\"bl_invmass_b\", data=signal_invmass_jet1_positive[:])\n",
    "group.create_dataset(\"delta_eta_b\", data=signal_delta_eta_jet1_positive[:])\n",
    "group.create_dataset(\"bl_pt_b\", data=signal_combined_pt_jet1_positive[:])\n",
    "group.create_dataset(\"cluster_delta_r_b\", data=signal_cluster_delta_r_jet1_positive[:])\n",
    "group.create_dataset(\"cluster_delta_eta_b\", data=signal_cluster_delta_eta_jet1_positive[:])\n",
    "group.create_dataset(\"mag_de_dr_b\", data=signal_mag_de_dr_jet1_positive[:])\n",
    "group.create_dataset(\"delta_r_bbar\", data=signal_delta_r_jet2_negative[:])\n",
    "group.create_dataset(\"bl_invmass_bbar\", data=signal_invmass_jet2_negative[:])\n",
    "group.create_dataset(\"delta_eta_bar\", data=signal_delta_eta_jet2_negative[:])\n",
    "group.create_dataset(\"bl_pt_bbar\", data=signal_combined_pt_jet2_negative[:])\n",
    "group.create_dataset(\"cluster_delta_r_bbar\", data=signal_cluster_delta_r_jet2_negative[:])\n",
    "group.create_dataset(\"cluster_delta_eta_bbar\", data=signal_cluster_delta_eta_jet2_negative[:])\n",
    "group.create_dataset(\"mag_de_dr_bbar\", data=signal_mag_de_dr_jet2_negative[:])\n",
    "group.create_dataset(\"delta_angle_b\", data=signal_delta_angle_jet1_positive[:])\n",
    "group.create_dataset(\"delta_angle_bbar\", data=signal_delta_angle_jet2_negative[:])\n",
    "group.create_dataset(\"bl_energy_b\", data=signal_energy_jet1_positive[:])\n",
    "group.create_dataset(\"bl_energy_bbar\", data=signal_energy_jet2_negative[:])\n",
    "h5_file.close()\n",
    "print(\"done\")\n"
   ]
  }
 ],
 "metadata": {
  "kernelspec": {
   "display_name": "base",
   "language": "python",
   "name": "python3"
  },
  "language_info": {
   "codemirror_mode": {
    "name": "ipython",
    "version": 3
   },
   "file_extension": ".py",
   "mimetype": "text/x-python",
   "name": "python",
   "nbconvert_exporter": "python",
   "pygments_lexer": "ipython3",
   "version": "3.11.7"
  }
 },
 "nbformat": 4,
 "nbformat_minor": 2
}
