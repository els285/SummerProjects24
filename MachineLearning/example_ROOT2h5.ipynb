{
 "cells": [
  {
   "cell_type": "markdown",
   "metadata": {},
   "source": [
    "# Building a h5 dataset from a ROOT file"
   ]
  },
  {
   "cell_type": "code",
   "execution_count": 79,
   "metadata": {},
   "outputs": [],
   "source": [
    "import uproot\n",
    "import h5py\n",
    "import numpy as np\n",
    "from tqdm import tqdm #This module gives you a live progress bar for a loop\n"
   ]
  },
  {
   "cell_type": "markdown",
   "metadata": {},
   "source": [
    "Load the data using uproot as we have normally. Load the arrays"
   ]
  },
  {
   "cell_type": "code",
   "execution_count": 3,
   "metadata": {},
   "outputs": [],
   "source": [
    "input_filename = \"Samples/ttbar_200k_dilep.root\"\n",
    "input_ttree_name = \"nominal\""
   ]
  },
  {
   "cell_type": "code",
   "execution_count": 73,
   "metadata": {},
   "outputs": [],
   "source": [
    "tree =  uproot.open(f\"{input_filename}:{input_ttree_name}\") "
   ]
  },
  {
   "cell_type": "code",
   "execution_count": 74,
   "metadata": {},
   "outputs": [],
   "source": [
    "Nevents = tree.num_entries\n",
    "jet_pt    = tree[\"jet_pt\"].array(library='np')\n",
    "jet_eta   = tree[\"jet_eta\"].array(library='np')\n",
    "jet_phi   = tree[\"jet_phi\"].array(library='np')\n",
    "jet_e     = tree[\"jet_e\"].array(library='np')\n"
   ]
  },
  {
   "cell_type": "code",
   "execution_count": 75,
   "metadata": {},
   "outputs": [],
   "source": [
    "# Get the maximum number of jets in any event. There is definitely a faster way\n",
    "# to do this\n",
    "max_jets = 0\n",
    "for i in range(Nevents):\n",
    "    if len(jet_pt[i]) > max_jets:\n",
    "        max_jets = len(jet_pt[i])"
   ]
  },
  {
   "cell_type": "markdown",
   "metadata": {},
   "source": [
    "We create numpy arrays of custom data-type:\n",
    "First create a specific data type for four-momenta"
   ]
  },
  {
   "cell_type": "code",
   "execution_count": 76,
   "metadata": {},
   "outputs": [],
   "source": [
    "four_momenta_dt = np.dtype([('pt', np.float32), ('eta', np.float32), ('phi', np.float32), ('e', np.float32)])"
   ]
  },
  {
   "cell_type": "markdown",
   "metadata": {},
   "source": [
    "We need to create some empty numpy arrays to fill, of dimension max_jets columns\n",
    "and Nevents rows"
   ]
  },
  {
   "cell_type": "code",
   "execution_count": 77,
   "metadata": {},
   "outputs": [],
   "source": [
    "jet_data = np.zeros((Nevents, max_jets), dtype=four_momenta_dt)"
   ]
  },
  {
   "cell_type": "markdown",
   "metadata": {},
   "source": [
    "Fill the `jet_data` numpy array from the loaded data"
   ]
  },
  {
   "cell_type": "code",
   "execution_count": 78,
   "metadata": {},
   "outputs": [
    {
     "name": "stderr",
     "output_type": "stream",
     "text": [
      "100%|██████████| 100000/100000 [00:00<00:00, 157581.02it/s]\n"
     ]
    }
   ],
   "source": [
    "# Loop over all entries in the array, using a for loop with index\n",
    "for i in tqdm(range(Nevents)):\n",
    "    num_jets = len(jet_pt[i])\n",
    "    for j in range(num_jets):\n",
    "        jet_data[i][j] = (jet_pt[i][j], jet_eta[i][j], jet_phi[i][j],  jet_e[i][j])\n",
    "\n",
    "        "
   ]
  },
  {
   "cell_type": "markdown",
   "metadata": {},
   "source": [
    "`jet_data` has now been populated"
   ]
  },
  {
   "cell_type": "code",
   "execution_count": 71,
   "metadata": {},
   "outputs": [
    {
     "name": "stdout",
     "output_type": "stream",
     "text": [
      "[[( 98.194275,  0.80488354,  0.01690417, 132.37424 )\n",
      "  ( 97.47331 , -1.1130863 , -2.9167042 , 164.60107 )\n",
      "  ( 25.289927, -1.5169365 ,  0.08937796,  60.50155 ) ...\n",
      "  (  0.      ,  0.        ,  0.        ,   0.      )\n",
      "  (  0.      ,  0.        ,  0.        ,   0.      )\n",
      "  (  0.      ,  0.        ,  0.        ,   0.      )]\n",
      " [(165.24458 ,  1.6151805 ,  1.5789794 , 432.06485 )\n",
      "  ( 55.44954 , -0.6764963 ,  2.6380312 ,  68.86536 )\n",
      "  ( 52.215954,  2.2815974 , -2.1463335 , 258.3971  ) ...\n",
      "  (  0.      ,  0.        ,  0.        ,   0.      )\n",
      "  (  0.      ,  0.        ,  0.        ,   0.      )\n",
      "  (  0.      ,  0.        ,  0.        ,   0.      )]\n",
      " [(161.18646 , -1.3344725 ,  2.4141598 , 327.78928 )\n",
      "  ( 80.61672 ,  0.92472154,  2.3028657 , 118.165184)\n",
      "  (  0.      ,  0.        ,  0.        ,   0.      ) ...\n",
      "  (  0.      ,  0.        ,  0.        ,   0.      )\n",
      "  (  0.      ,  0.        ,  0.        ,   0.      )\n",
      "  (  0.      ,  0.        ,  0.        ,   0.      )]\n",
      " ...\n",
      " [( 48.538033, -0.44061795,  1.2922369 ,  54.39966 )\n",
      "  ( 28.734308,  0.30659705,  1.4065583 ,  30.602552)\n",
      "  (  0.      ,  0.        ,  0.        ,   0.      ) ...\n",
      "  (  0.      ,  0.        ,  0.        ,   0.      )\n",
      "  (  0.      ,  0.        ,  0.        ,   0.      )\n",
      "  (  0.      ,  0.        ,  0.        ,   0.      )]\n",
      " [( 49.80259 ,  1.10373   ,  1.3746605 ,  84.31471 )\n",
      "  ( 41.67746 , -1.6533239 , -0.28199667, 113.19873 )\n",
      "  (  0.      ,  0.        ,  0.        ,   0.      ) ...\n",
      "  (  0.      ,  0.        ,  0.        ,   0.      )\n",
      "  (  0.      ,  0.        ,  0.        ,   0.      )\n",
      "  (  0.      ,  0.        ,  0.        ,   0.      )]\n",
      " [( 27.340397,  0.5634797 , -2.0618865 ,  32.12487 )\n",
      "  ( 22.460676, -0.16993716, -2.04986   ,  23.039154)\n",
      "  (  0.      ,  0.        ,  0.        ,   0.      ) ...\n",
      "  (  0.      ,  0.        ,  0.        ,   0.      )\n",
      "  (  0.      ,  0.        ,  0.        ,   0.      )\n",
      "  (  0.      ,  0.        ,  0.        ,   0.      )]]\n"
     ]
    }
   ],
   "source": [
    "print(jet_data)"
   ]
  },
  {
   "cell_type": "code",
   "execution_count": 81,
   "metadata": {},
   "outputs": [],
   "source": [
    "h5_file = h5py.File(\"example_output.h5\", 'w')\n",
    "group = h5_file.create_group('Objects')\n",
    "group.create_dataset(\"jet\", data=jet_data)\n",
    "h5_file.close()"
   ]
  },
  {
   "cell_type": "code",
   "execution_count": null,
   "metadata": {},
   "outputs": [],
   "source": []
  }
 ],
 "metadata": {
  "kernelspec": {
   "display_name": "Python 3",
   "language": "python",
   "name": "python3"
  },
  "language_info": {
   "codemirror_mode": {
    "name": "ipython",
    "version": 3
   },
   "file_extension": ".py",
   "mimetype": "text/x-python",
   "name": "python",
   "nbconvert_exporter": "python",
   "pygments_lexer": "ipython3",
   "version": "3.10.13"
  }
 },
 "nbformat": 4,
 "nbformat_minor": 2
}
