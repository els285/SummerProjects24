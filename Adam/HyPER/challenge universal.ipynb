{
 "cells": [
  {
   "cell_type": "code",
   "execution_count": 2,
   "metadata": {},
   "outputs": [],
   "source": [
    "import uproot \n",
    "import numpy as np\n",
    "from tqdm import tqdm\n",
    "import h5py\n",
    "import awkward as ak\n",
    "import vector"
   ]
  },
  {
   "cell_type": "code",
   "execution_count": 3,
   "metadata": {},
   "outputs": [],
   "source": [
    "path = 'C:/Users/HP/Documents/data/' # change to you path\n",
    "pad_to_jet = 20\n",
    "root_file   = uproot.open(path+'skim2_28.root')['Delphes']"
   ]
  },
  {
   "cell_type": "code",
   "execution_count": 234,
   "metadata": {},
   "outputs": [],
   "source": []
  },
  {
   "cell_type": "code",
   "execution_count": 235,
   "metadata": {},
   "outputs": [],
   "source": [
    "njet = root_file['Jet'].array()        \n",
    "mask_jet = njet>=6      \n",
    "njet = njet[mask_jet]         \n",
    "jet_pt = root_file['Jet/Jet.PT'].array()[mask_jet]\n",
    "jet_eta = root_file['Jet/Jet.Eta'].array()[mask_jet]\n",
    "jet_phi = root_file['Jet/Jet.Phi'].array()[mask_jet]     \n",
    "jet_m = root_file['Jet/Jet.Mass'].array()[mask_jet]\n",
    "jet_btag = root_file['Jet/Jet.BTag'].array()[mask_jet]\n",
    "\n",
    "n_particles = root_file['Particle'].array()[mask_jet]\n",
    "particle_pid = root_file['Particle/Particle.PID'].array()[mask_jet]\n",
    "particle_status = root_file['Particle/Particle.Status'].array()[mask_jet]\n",
    "particle_m = root_file['Particle/Particle.Mass'].array()[mask_jet] \n",
    "particle_pt = root_file['Particle/Particle.PT'].array()[mask_jet] \n",
    "particle_eta = root_file['Particle/Particle.Eta'].array()[mask_jet]  \n",
    "particle_phi = root_file['Particle/Particle.Phi'].array()[mask_jet] \n",
    "\n",
    "length = len(n_particles)\n",
    "new_values = np.array([1,4,2,3,5,6])\n"
   ]
  },
  {
   "cell_type": "code",
   "execution_count": 275,
   "metadata": {},
   "outputs": [],
   "source": [
    "def pad_variable(variable, max_len, pad_to = 0):\n",
    "    padded_variable = ak.pad_none(variable, max_len, axis=1)\n",
    "    return ak.fill_none(padded_variable, pad_to)\n",
    "\n",
    "def create_padded_vector(pt, eta, phi, m, max_len, pad_eta=0):\n",
    "    padded_pt = pad_variable(pt, max_len)\n",
    "    padded_eta = pad_variable(eta, max_len, pad_to = pad_eta)\n",
    "    padded_phi = pad_variable(phi, max_len)\n",
    "    padded_m = pad_variable(m, max_len)\n",
    "    return vector.zip({'pt':padded_pt, 'eta':padded_eta, 'phi':padded_phi, 'm' :padded_m})\n",
    "\n",
    "\n",
    "def quick_method(jets, particles, max_jet, limit = length):\n",
    "    # requires padded jet array\n",
    "    matched = np.zeros((limit,max_jet))\n",
    "    mask = np.zeros((limit, max_jet), dtype=bool)\n",
    "    for i in range(max_jet):\n",
    "        delta_Rs = jets[:,i][:limit].deltaR(particles[:limit])\n",
    "        min_R = np.min(delta_Rs, axis=1)\n",
    "        index = new_values[np.argmin(delta_Rs, axis=1)]\n",
    "        matched[:,i] = np.where(min_R<0.4, index,0)\n",
    "    return matched\n",
    "\n",
    "def expensive_method(jets, particles, max_jet ,limit=length):\n",
    "    # requires non padded jet array\n",
    "    limit = min(len(jets), limit)\n",
    "    print(max_jet)\n",
    "    matched = np.zeros((limit,max_jet))\n",
    "    for event, (event_jets, event_particles) in tqdm(enumerate(zip(jets[:limit], particles[:limit]))):\n",
    "        all_Rs = np.array([jet.deltaR(event_particles) for jet in event_jets])\n",
    "        mins = np.zeros((max_jet))\n",
    "        for i in range(6):\n",
    "            arg = np.argmin(all_Rs)\n",
    "            mins[arg//6] = np.where(all_Rs[arg//6, arg%6]<0.4, new_values[arg%6], 0)\n",
    "            all_Rs[:,arg%6] = 99\n",
    "            all_Rs[arg//6,:] = 99\n",
    "        matched[event] = mins\n",
    "    return matched\n",
    "\n",
    "\n",
    "def find_repeats(data):\n",
    "    mask = np.full(len(data), False)\n",
    "    for i in range(1,7):\n",
    "        value = np.sum(data == i, axis=1)\n",
    "        mask = mask | (value>1)\n",
    "    #jet_truth_matched[mask]\n",
    "    return np.arange(len(data))[mask]\n",
    "\n",
    "def crop(array, n_jet, max_jet):\n",
    "    mask = np.zeros(np.shape(array), dtype=bool)\n",
    "    for i in range(max_jet):\n",
    "        mask[:,i]= n_jet>i\n",
    "    return ak.drop_none(ak.mask(array,mask))\n",
    "\n",
    "\n",
    "\n",
    "def full_method(jet_vectors, jet_vectors_padded, particle_vectors, max_jet, limit = length, crop=False):\n",
    "    jet_truth_matched = quick_method(jet_vectors_padded, particle_vectors, max_jet, limit)\n",
    "    bad_indicies = find_repeats(jet_truth_matched)\n",
    "    print(f'{len(bad_indicies)} events to recalculate')\n",
    "    jet_truth_matched[bad_indicies] = expensive_method(jet_vectors[bad_indicies], particle_vectors[bad_indicies], max_jet)\n",
    "    if crop:\n",
    "        return crop(jet_truth_matched, njet[:limit], max_jet)\n",
    "    return jet_truth_matched\n",
    "    \n"
   ]
  },
  {
   "cell_type": "code",
   "execution_count": 277,
   "metadata": {},
   "outputs": [
    {
     "name": "stdout",
     "output_type": "stream",
     "text": [
      "2368 events to recalculate\n",
      "15\n"
     ]
    },
    {
     "name": "stderr",
     "output_type": "stream",
     "text": [
      "2368it [00:48, 49.06it/s]\n"
     ]
    }
   ],
   "source": [
    "max_jet = np.max(njet)\n",
    "particle_vectors = vector.zip({'pt':particle_pt, 'eta':particle_eta, 'phi':particle_phi, 'm' :particle_m})[particle_status == 23][:,-6:]\n",
    "jet_vectors_padded = vector.zip({'pt':pad_variable(jet_pt, max_jet), 'eta':pad_variable(jet_eta, max_jet, pad_to = 99), 'phi':pad_variable(jet_phi, max_jet), 'm' :pad_variable(jet_m, max_jet)})\n",
    "jet_vectors  = vector.zip({'pt':jet_pt, 'eta':jet_eta, 'phi':jet_phi, 'm' :jet_m})\n",
    "\n",
    "\n",
    "jet_truthmatch = full_method(jet_vectors, jet_vectors_padded, particle_vectors, max_jet)"
   ]
  },
  {
   "cell_type": "code",
   "execution_count": 291,
   "metadata": {},
   "outputs": [],
   "source": [
    "data = {}\n",
    "data['njet'] = njet\n",
    "data['nbtagged'] = np.sum(jet_btag, axis=1)\n",
    "data['allMatchedEvent'] = np.sum(jet_truthmatch==0, axis=1) == 0\n",
    "data['leastOneMatchedW'] = np.any(jet_truthmatch == 2, axis=1) | np.any(jet_truthmatch == 3, axis=1) | np.any(jet_truthmatch == 5, axis=1) | np.any(jet_truthmatch == 6, axis=1)\n",
    "data['jet_pt'] = pad_variable(jet_pt, max_jet)\n",
    "data['jet_eta'] = pad_variable(jet_eta, max_jet, pad_to = 0)\n",
    "data['jet_phi'] = pad_variable(jet_phi, max_jet)\n",
    "data['jet_e'] = pad_variable(vector.zip({'pt':jet_pt, 'eta':jet_eta, 'phi':jet_phi, 'm' :jet_m}).e, max_jet)\n",
    "data['jet_m'] = pad_variable(jet_m, max_jet)\n",
    "data['jet_btag'] = pad_variable(jet_btag, max_jet)\n",
    "data['jet_truthmatch'] = jet_truthmatch\n",
    "data['particle_pid'] = particle_pid[particle_status == 23][:,-6:]\n",
    "data['particle_pt'] = particle_pt[particle_status == 23][:,-6:]\n",
    "data['particle_eta'] = particle_eta[particle_status == 23][:,-6:]\n",
    "data['particle_phi'] = particle_phi[particle_status == 23][:,-6:]\n",
    "data['particle_m'] = particle_m[particle_status == 23][:,-6:]"
   ]
  },
  {
   "cell_type": "code",
   "execution_count": 292,
   "metadata": {},
   "outputs": [
    {
     "data": {
      "text/html": [
       "<pre>[15,\n",
       " 15,\n",
       " 15,\n",
       " 15,\n",
       " 15,\n",
       " 15,\n",
       " 15,\n",
       " 15,\n",
       " 15,\n",
       " 15,\n",
       " ...,\n",
       " 15,\n",
       " 15,\n",
       " 15,\n",
       " 15,\n",
       " 15,\n",
       " 15,\n",
       " 15,\n",
       " 15,\n",
       " 15]\n",
       "-------------------\n",
       "type: 42201 * int64</pre>"
      ],
      "text/plain": [
       "<Array [15, 15, 15, 15, 15, 15, ..., 15, 15, 15, 15, 15] type='42201 * int64'>"
      ]
     },
     "execution_count": 292,
     "metadata": {},
     "output_type": "execute_result"
    }
   ],
   "source": [
    "h5_file.close()\n",
    "ak.num(data['jet_btag'], axis=1)"
   ]
  },
  {
   "cell_type": "code",
   "execution_count": 293,
   "metadata": {},
   "outputs": [
    {
     "name": "stdout",
     "output_type": "stream",
     "text": [
      "njet\n",
      "nbtagged\n",
      "allMatchedEvent\n",
      "leastOneMatchedW\n",
      "jet_pt\n",
      "jet_eta\n",
      "jet_phi\n",
      "jet_e\n",
      "jet_m\n",
      "jet_btag\n",
      "jet_truthmatch\n",
      "particle_pid\n",
      "particle_pt\n",
      "particle_eta\n",
      "particle_phi\n",
      "particle_m\n"
     ]
    }
   ],
   "source": [
    "h5_file = h5py.File(path+f\"Hyper_data.h5\", 'w')\n",
    "group = h5_file.create_group('Delphes')\n",
    "for key, value in data.items():\n",
    "    print(key)\n",
    "    group.create_dataset(key, data=value)\n",
    "\n",
    "h5_file.close()"
   ]
  },
  {
   "cell_type": "code",
   "execution_count": 229,
   "metadata": {},
   "outputs": [
    {
     "data": {
      "text/html": [
       "<pre>[[6, 0, 3, 4, 1, 5, 0],\n",
       " [2, 6, 4, 3, 0, 5],\n",
       " [2, 4, 6, 3, 0, 1],\n",
       " [3, 6, 4, 0, 0, 0],\n",
       " [1, 2, 0, 4, 3, 0],\n",
       " [1, 5, 0, 2, 6, 0],\n",
       " [3, 2, 0, 5, 6, 0, 0],\n",
       " [5, 2, 1, 6, 0, 0, 0],\n",
       " [6, 0, 1, 2, 0, 4, 0, 0, 5, 3],\n",
       " [2, 1, 0, 4, 5, 0, 0],\n",
       " ...,\n",
       " [5, 2, 1, 4, 3, 6],\n",
       " [4, 6, 2, 5, 3, 1],\n",
       " [6, 2, 0, 1, 0, 5, 0],\n",
       " [6, 3, 5, 2, 4, 1],\n",
       " [1, 0, 4, 5, 3, 2, 0],\n",
       " [6, 5, 0, 3, 0, 3],\n",
       " [4, 3, 2, 6, 0, 0, 0],\n",
       " [0, 1, 0, 0, 6, 3, 4],\n",
       " [0, 0, 0, 5, 1, 6, 3]]\n",
       "--------------------------------\n",
       "type: 100 * var * float64</pre>"
      ],
      "text/plain": [
       "<Array [[6, 0, 3, 4, 1, 5, 0], ..., [0, 0, ..., 3]] type='100 * var * float64'>"
      ]
     },
     "execution_count": 229,
     "metadata": {},
     "output_type": "execute_result"
    }
   ],
   "source": [
    "a = quick_method(jet_vectors_padded, particle_vectors, max_jet, limit = 100)\n",
    "crop(a, njet[:100], max_jet)"
   ]
  },
  {
   "cell_type": "code",
   "execution_count": 232,
   "metadata": {},
   "outputs": [
    {
     "name": "stdout",
     "output_type": "stream",
     "text": [
      "579 events to recalculate\n",
      "15\n"
     ]
    },
    {
     "name": "stderr",
     "output_type": "stream",
     "text": [
      "579it [00:11, 49.36it/s]\n"
     ]
    }
   ],
   "source": [
    "b = full_method(jet_vectors, jet_vectors_padded, particle_vectors, max_jet, limit = 10000)"
   ]
  }
 ],
 "metadata": {
  "kernelspec": {
   "display_name": "Python 3",
   "language": "python",
   "name": "python3"
  },
  "language_info": {
   "codemirror_mode": {
    "name": "ipython",
    "version": 3
   },
   "file_extension": ".py",
   "mimetype": "text/x-python",
   "name": "python",
   "nbconvert_exporter": "python",
   "pygments_lexer": "ipython3",
   "version": "3.11.2"
  }
 },
 "nbformat": 4,
 "nbformat_minor": 2
}
