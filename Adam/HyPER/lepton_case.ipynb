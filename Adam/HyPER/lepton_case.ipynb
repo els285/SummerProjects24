{
 "cells": [
  {
   "cell_type": "code",
   "execution_count": 34,
   "metadata": {},
   "outputs": [],
   "source": [
    "import uproot \n",
    "import numpy as np\n",
    "from tqdm import tqdm\n",
    "import h5py\n",
    "import awkward as ak\n",
    "import vector"
   ]
  },
  {
   "cell_type": "code",
   "execution_count": 35,
   "metadata": {},
   "outputs": [],
   "source": [
    "path = 'C:/Users/HP/Documents/data/HyPER/'\n",
    "root_file   = uproot.open(path+'ttbar_ljets_Wm_2907_29.root')['Delphes']"
   ]
  },
  {
   "cell_type": "code",
   "execution_count": 36,
   "metadata": {},
   "outputs": [
    {
     "data": {
      "text/plain": [
       "['Event',\n",
       " 'Event/Event.Number',\n",
       " 'Particle',\n",
       " 'Particle/Particle.PID',\n",
       " 'Particle/Particle.Status',\n",
       " 'Particle/Particle.Mass',\n",
       " 'Particle/Particle.PT',\n",
       " 'Particle/Particle.Eta',\n",
       " 'Particle/Particle.Phi',\n",
       " 'Jet',\n",
       " 'Jet/Jet.PT',\n",
       " 'Jet/Jet.Eta',\n",
       " 'Jet/Jet.Phi',\n",
       " 'Jet/Jet.Mass',\n",
       " 'Jet/Jet.BTag',\n",
       " 'Electron',\n",
       " 'Electron/Electron.PT',\n",
       " 'Electron/Electron.Eta',\n",
       " 'Electron/Electron.Phi',\n",
       " 'Muon',\n",
       " 'Muon/Muon.PT',\n",
       " 'Muon/Muon.Eta',\n",
       " 'Muon/Muon.Phi',\n",
       " 'MissingET',\n",
       " 'MissingET/MissingET.MET',\n",
       " 'MissingET/MissingET.Eta',\n",
       " 'MissingET/MissingET.Phi']"
      ]
     },
     "execution_count": 36,
     "metadata": {},
     "output_type": "execute_result"
    }
   ],
   "source": [
    "root_file.keys()"
   ]
  },
  {
   "cell_type": "markdown",
   "metadata": {},
   "source": [
    "***collecting data***\n",
    "- ensures that jet pt>25, -2.5<eta<2.5, jet_m>0\n",
    "- ensures that number of jets is >=4"
   ]
  },
  {
   "cell_type": "code",
   "execution_count": 78,
   "metadata": {},
   "outputs": [],
   "source": [
    "pad_to_jet = 17\n",
    "pad_lepton = 3\n",
    "# should have some sort of padding for the leptons as well - pad 2?\n",
    "\n",
    "jet_pt   = root_file['Jet/Jet.PT'].array()\n",
    "jet_eta  = root_file['Jet/Jet.Eta'].array()\n",
    "jet_m    = root_file['Jet/Jet.Mass'].array()\n",
    "# cuts = np.logical_and(jet_pt > 25 , abs(jet_eta) < 2.5, jet_m>0)\n",
    "cuts = (jet_pt > 25) & (abs(jet_eta) < 2.5) & (jet_m>0)\n",
    "#Apply cuts of jet_pt > 25GeV and absolute eta < 2.5\n",
    "\n",
    "jet_pt = jet_pt[cuts]\n",
    "jet_eta = jet_eta[cuts]\n",
    "jet_m = jet_m[cuts]\n",
    "jet_phi  = root_file['Jet/Jet.Phi'].array()[cuts]     \n",
    "jet_btag = root_file['Jet/Jet.BTag'].array()[cuts]\n",
    "\n",
    "#ensure that there are at least 6 jets in each event\n",
    "njet = ak.num(jet_btag, axis=1)\n",
    "jet_cut = (njet >=4)\n",
    "njet = njet[jet_cut]\n",
    "jet_pt = jet_pt[jet_cut]#[:,:4]\n",
    "jet_eta = jet_eta[jet_cut]#[:,:4]\n",
    "jet_phi = jet_phi[jet_cut]#[:,:4]\n",
    "jet_m = jet_m[jet_cut]#[:,:4]\n",
    "jet_btag = jet_btag[jet_cut]#[:,:4]\n",
    "\n",
    "\n",
    "\n",
    "particle_pid = root_file['Particle/Particle.PID'].array()[jet_cut]\n",
    "n_particles     = ak.num(particle_pid, axis=1)\n",
    "particle_status = root_file['Particle/Particle.Status'].array()[jet_cut]\n",
    "particle_m      = root_file['Particle/Particle.Mass'].array()[jet_cut]\n",
    "particle_pt     = root_file['Particle/Particle.PT'].array()[jet_cut]\n",
    "particle_eta    = root_file['Particle/Particle.Eta'].array()[jet_cut]\n",
    "particle_phi    = root_file['Particle/Particle.Phi'].array()[jet_cut]\n",
    "\n",
    "n_el    = root_file['Electron'].array()[jet_cut] \n",
    "el_pt    = root_file['Electron/Electron.PT'].array()[jet_cut]\n",
    "el_eta    = root_file['Electron/Electron.Eta'].array()[jet_cut]\n",
    "el_phi = root_file['Electron/Electron.Phi'].array()[jet_cut]\n",
    "el_m = ak.full_like(el_pt, 0.000511)\n",
    "\n",
    "n_mu   = root_file['Electron'].array()[jet_cut] \n",
    "mu_pt    = root_file['Muon/Muon.PT'].array()[jet_cut]\n",
    "mu_eta    = root_file['Muon/Muon.Eta'].array()[jet_cut] \n",
    "mu_phi    = root_file['Muon/Muon.Phi'].array()[jet_cut]\n",
    "mu_m = ak.full_like(mu_pt, 0.10566)\n",
    "\n",
    "n_met = root_file['MissingET'].array()[jet_cut]\n",
    "met_met = root_file['MissingET/MissingET.MET'].array()[jet_cut]\n",
    "met_eta = root_file['MissingET/MissingET.Eta'].array()[jet_cut]\n",
    "met_phi = root_file['MissingET/MissingET.Phi'].array()[jet_cut]\n",
    "\n",
    "\n",
    "length = len(n_particles)\n",
    "lepton_cut = (np.abs(particle_pid) == 11) | (np.abs(particle_pid) == 13)\n",
    "new_values = np.array([1,4,2,3,5,6])\n",
    "p_status_len = 4"
   ]
  },
  {
   "cell_type": "code",
   "execution_count": 60,
   "metadata": {},
   "outputs": [
    {
     "data": {
      "text/html": [
       "<pre>[[40.9],\n",
       " [59.2],\n",
       " [71],\n",
       " [84.9],\n",
       " [10.8],\n",
       " [4.47],\n",
       " [141],\n",
       " [61.3],\n",
       " [65.6],\n",
       " [89.6],\n",
       " ...,\n",
       " [29.5],\n",
       " [17.9],\n",
       " [120],\n",
       " [59.7],\n",
       " [43],\n",
       " [46.5],\n",
       " [112],\n",
       " [37.8],\n",
       " [117]]\n",
       "---------------------------\n",
       "type: 67264 * var * float32</pre>"
      ],
      "text/plain": [
       "<Array [[40.9], [59.2], [71], ..., [37.8], [117]] type='67264 * var * float32'>"
      ]
     },
     "execution_count": 60,
     "metadata": {},
     "output_type": "execute_result"
    }
   ],
   "source": [
    "met_met"
   ]
  },
  {
   "cell_type": "code",
   "execution_count": 62,
   "metadata": {},
   "outputs": [
    {
     "data": {
      "text/html": [
       "<pre>[[-0.8],\n",
       " [3.11],\n",
       " [-1.39],\n",
       " [1.92],\n",
       " [2.46],\n",
       " [-0.472],\n",
       " [1.09],\n",
       " [1.49],\n",
       " [3.06],\n",
       " [1.23],\n",
       " ...,\n",
       " [0.974],\n",
       " [2.72],\n",
       " [-0.192],\n",
       " [2.75],\n",
       " [1.43],\n",
       " [1.89],\n",
       " [2.18],\n",
       " [1.78],\n",
       " [-0.0884]]\n",
       "---------------------------\n",
       "type: 67264 * var * float32</pre>"
      ],
      "text/plain": [
       "<Array [[-0.8], [3.11], ..., [1.78], [-0.0884]] type='67264 * var * float32'>"
      ]
     },
     "execution_count": 62,
     "metadata": {},
     "output_type": "execute_result"
    }
   ],
   "source": [
    "met_phi"
   ]
  },
  {
   "cell_type": "code",
   "execution_count": 39,
   "metadata": {},
   "outputs": [],
   "source": [
    "def pad_variable(variable, max_len, pad_to = 0):\n",
    "    padded_variable = ak.pad_none(variable, max_len, axis=1, clip=True)\n",
    "    return ak.fill_none(padded_variable, pad_to)\n",
    "\n",
    "def create_padded_vector(pt, eta, phi, m, max_len, pad_eta=0):\n",
    "    padded_pt = pad_variable(pt, max_len)\n",
    "    padded_eta = pad_variable(eta, max_len, pad_to = pad_eta)\n",
    "    padded_phi = pad_variable(phi, max_len)\n",
    "    padded_m = pad_variable(m, max_len)\n",
    "    return vector.zip({'pt':padded_pt, 'eta':padded_eta, 'phi':padded_phi, 'm' :padded_m})\n",
    "\n",
    "\n",
    "def quick_method(jets, particles, max_jet, w_minus):\n",
    "    matched = np.zeros((length,max_jet))\n",
    "    for i in range(max_jet):\n",
    "        delta_Rs = jets[:,i].deltaR2(particles)  \n",
    "        min_R = np.min(delta_Rs, axis=1)\n",
    "        arg = np.argmin(delta_Rs, axis=1)\n",
    "        index = new_values[arg]\n",
    "        matched[:,i] = np.where(min_R<0.16, index,0)\n",
    "    return matched + 3 * (np.isin(matched, [2,3])& w_minus[:,None])\n",
    "\n",
    "def expensive_method(jets, particles, max_jet, w_minus):\n",
    "    # requires non padded jet array\n",
    "    matched = np.zeros((len(jets),max_jet))\n",
    "    for event, (event_jets, event_particles) in tqdm(enumerate(zip(jets, particles))):\n",
    "        all_Rs = np.array([jet.deltaR2(event_particles) for jet in event_jets])\n",
    "        mins = np.zeros((pad_to_jet))\n",
    "        for i in range(p_status_len):\n",
    "            arg = np.argmin(all_Rs)\n",
    "            mins[arg//p_status_len] = np.where(all_Rs[arg//p_status_len, arg%p_status_len]<0.16, new_values[arg%p_status_len], 0)\n",
    "            all_Rs[:,arg%p_status_len] = 99\n",
    "            all_Rs[arg//p_status_len,:] = 99\n",
    "        matched[event] = mins\n",
    "    return matched + 3 * (np.isin(matched, [2,3])& w_minus[:,None])\n",
    "\n",
    "\n",
    "def find_repeats(data):\n",
    "    mask = np.full(len(data), False)\n",
    "    for i in range(1,p_status_len+1):\n",
    "        value = np.sum(data == i, axis=1)\n",
    "        mask = mask | (value>1)\n",
    "    #jet_truth_matched[mask]\n",
    "    return np.arange(len(data))[mask]\n",
    "\n",
    "\n",
    "\n",
    "def full_method(jet_vectors, jet_vectors_padded, particle_vectors, max_jet, w_minus):\n",
    "    jet_truth_matched = quick_method(jet_vectors_padded, particle_vectors, max_jet, w_minus)\n",
    "    bad_indicies = find_repeats(jet_truth_matched)\n",
    "    print(f'{len(bad_indicies)} events to recalculate')\n",
    "    jet_truth_matched[bad_indicies] = expensive_method(jet_vectors[bad_indicies], particle_vectors[bad_indicies], max_jet, w_minus[bad_indicies])\n",
    "    return jet_truth_matched\n",
    "\n",
    "def crop(array, n_jet, max_jet):\n",
    "    mask = np.zeros(np.shape(array), dtype=bool)\n",
    "    for i in range(max_jet):\n",
    "        mask[:,i]= n_jet>i\n",
    "    return ak.drop_none(ak.mask(array,mask))"
   ]
  },
  {
   "cell_type": "markdown",
   "metadata": {},
   "source": [
    "***finding the b, bbar and w***\n",
    "- w minus is an array of true and false\n",
    "- true if the quarks come from a w-\n",
    "- use this to find the jet labels of the hadronic decay\n"
   ]
  },
  {
   "cell_type": "code",
   "execution_count": 40,
   "metadata": {},
   "outputs": [],
   "source": [
    "particle_vectors   = vector.zip({'pt':particle_pt, 'eta':particle_eta, 'phi':particle_phi, 'm' :particle_m})[particle_status == 23][:,-p_status_len:]\n",
    "jet_vectors_padded = vector.zip({'pt':pad_variable(jet_pt, pad_to_jet), 'eta':pad_variable(jet_eta, pad_to_jet, pad_to = 99), 'phi':pad_variable(jet_phi, pad_to_jet), 'm' :pad_variable(jet_m, pad_to_jet)})\n",
    "jet_vectors        = vector.zip({'pt':jet_pt, 'eta':jet_eta, 'phi':jet_phi, 'm' :jet_m})[:,:pad_to_jet]"
   ]
  },
  {
   "cell_type": "code",
   "execution_count": 41,
   "metadata": {},
   "outputs": [
    {
     "data": {
      "text/html": [
       "<pre>[[5, -5, 2, -1],\n",
       " [5, -5, 2, -1],\n",
       " [5, -5, 2, -1],\n",
       " [5, -5, 2, -1],\n",
       " [5, -5, 4, -3],\n",
       " [5, -5, 2, -1],\n",
       " [5, -5, 2, -1],\n",
       " [5, -5, 2, -1],\n",
       " [5, -5, 2, -1],\n",
       " [5, -5, 4, -3],\n",
       " ...,\n",
       " [5, -5, 4, -3],\n",
       " [5, -5, 2, -1],\n",
       " [5, -5, 4, -3],\n",
       " [5, -5, 4, -3],\n",
       " [5, -5, 4, -3],\n",
       " [5, -5, 2, -1],\n",
       " [5, -5, 2, -1],\n",
       " [5, -5, 2, -1],\n",
       " [5, -5, 2, -1]]\n",
       "-------------------------\n",
       "type: 67264 * var * int32</pre>"
      ],
      "text/plain": [
       "<Array [[5, -5, 2, -1], [...], ..., [5, -5, 2, -1]] type='67264 * var * int32'>"
      ]
     },
     "execution_count": 41,
     "metadata": {},
     "output_type": "execute_result"
    }
   ],
   "source": [
    "# always puts particle, then anti particle\n",
    "# can check 3rd position, if divisible by 2 then add 2 to the index\n",
    "particle_pid[particle_status==23][:,-4:]"
   ]
  },
  {
   "cell_type": "code",
   "execution_count": 42,
   "metadata": {},
   "outputs": [
    {
     "name": "stdout",
     "output_type": "stream",
     "text": [
      "2836 events to recalculate\n"
     ]
    },
    {
     "name": "stderr",
     "output_type": "stream",
     "text": [
      "2836it [00:52, 53.67it/s]\n"
     ]
    }
   ],
   "source": [
    "w_minus = np.array(np.isin(particle_pid[particle_status == 23][:,-2], [1,3]))\n",
    "jet_labels = full_method(jet_vectors, jet_vectors_padded, particle_vectors, pad_to_jet, w_minus)"
   ]
  },
  {
   "cell_type": "markdown",
   "metadata": {},
   "source": [
    "***finding lepton charge***\n",
    "- form a padded vector from recon lepton data (3 max)\n",
    "- form vector for truth leptons\n",
    "- delta R match to find the charge of the recon leptons"
   ]
  },
  {
   "cell_type": "code",
   "execution_count": 43,
   "metadata": {},
   "outputs": [],
   "source": [
    "lepton_pt = np.concatenate((el_pt, mu_eta), axis=1)\n",
    "lepton_eta = np.concatenate((el_eta, mu_eta), axis=1)\n",
    "lepton_phi = np.concatenate((el_phi, mu_phi), axis=1)\n",
    "lepton_m = np.concatenate((el_m, mu_m), axis=1)\n",
    "\n",
    "n_lep = ak.num(lepton_eta, axis=1)\n",
    "n = int(np.max(n_lep))\n",
    "\n",
    "lepton_vector_padded = vector.zip({'pt':pad_variable(lepton_pt, pad_lepton), 'eta':pad_variable(lepton_eta, pad_lepton, 99), 'phi':pad_variable(lepton_phi, pad_lepton), 'm' :pad_variable(lepton_m, pad_lepton)})"
   ]
  },
  {
   "cell_type": "code",
   "execution_count": 44,
   "metadata": {},
   "outputs": [],
   "source": [
    "particle_cut = (np.abs(particle_pid) == 11) | (np.abs(particle_pid) == 13)\n",
    "lepton_pt_truth = particle_pt[particle_cut]\n",
    "lepton_eta_truth = particle_eta[particle_cut]\n",
    "lepton_phi_truth = particle_phi[particle_cut]\n",
    "lepton_m_truth = particle_m[particle_cut]\n",
    "lepton_pid_truth = particle_pid[particle_cut]\n",
    "\n",
    "lepton_truth_vector = vector.zip({'pt':lepton_pt_truth, 'eta':lepton_eta_truth, 'phi':lepton_phi_truth, 'm' :lepton_m_truth})"
   ]
  },
  {
   "cell_type": "code",
   "execution_count": 65,
   "metadata": {},
   "outputs": [
    {
     "data": {
      "text/plain": [
       "28"
      ]
     },
     "execution_count": 65,
     "metadata": {},
     "output_type": "execute_result"
    }
   ],
   "source": [
    "np.sum(ak.num(lepton_pt)>1)\n"
   ]
  },
  {
   "cell_type": "code",
   "execution_count": 45,
   "metadata": {},
   "outputs": [],
   "source": [
    "# there are sometimes multiple leptons that get matched. is this ok?\n",
    "def old_method(lepton_eta, lepton_eta_truth):\n",
    "    lepton_eta_padded = pad_variable(lepton_eta, pad_lepton, 99)\n",
    "    matched = np.zeros((length, pad_lepton))\n",
    "    for i in range(pad_lepton):\n",
    "        diffs = lepton_eta_padded[:,i] - lepton_eta_truth\n",
    "        min_R = np.min(np.abs(diffs), axis=1)\n",
    "        index = np.argmin(np.abs(diffs), axis=1)\n",
    "        pid = lepton_pid_truth[ak.local_index(lepton_eta_truth) == index][:,0]\n",
    "        matched[:,i] = np.where(min_R<0.4, np.sign(-1*pid), 0)\n",
    "    return matched\n",
    "\n",
    "def find_lep_charge(lepton_vector_padded, lepton_truth_vector, lepton_pid_truth):\n",
    "    matched = np.zeros((length, pad_lepton))\n",
    "    for i in range(pad_lepton):\n",
    "        deltaRs = lepton_vector_padded[:,i].deltaR2(lepton_truth_vector)\n",
    "        min_R = np.min(deltaRs, axis=1)\n",
    "        index = np.argmin(deltaRs, axis=1)\n",
    "        pid = lepton_pid_truth[ak.local_index(lepton_pid_truth) == index][:,0]\n",
    "        matched[:,i] = np.where(min_R<0.16, np.sign(-1*pid), 0)\n",
    "    return matched"
   ]
  },
  {
   "cell_type": "code",
   "execution_count": 46,
   "metadata": {},
   "outputs": [],
   "source": [
    "a = old_method(lepton_eta, lepton_eta_truth)\n",
    "b = find_lep_charge(lepton_vector_padded, lepton_truth_vector, lepton_pid_truth)\n"
   ]
  },
  {
   "cell_type": "code",
   "execution_count": 47,
   "metadata": {},
   "outputs": [
    {
     "data": {
      "text/html": [
       "<pre>[[],\n",
       " [],\n",
       " [],\n",
       " [],\n",
       " [0.279],\n",
       " [0.398],\n",
       " [],\n",
       " [1.16],\n",
       " [1.92],\n",
       " [],\n",
       " ...,\n",
       " [-1.23],\n",
       " [-0.196],\n",
       " [-0.449],\n",
       " [0.626],\n",
       " [],\n",
       " [],\n",
       " [],\n",
       " [],\n",
       " []]\n",
       "---------------------------\n",
       "type: 67264 * var * float32</pre>"
      ],
      "text/plain": [
       "<Array [[], [], [], [], ..., [], [], [], []] type='67264 * var * float32'>"
      ]
     },
     "execution_count": 47,
     "metadata": {},
     "output_type": "execute_result"
    }
   ],
   "source": [
    "lepton_eta"
   ]
  },
  {
   "cell_type": "code",
   "execution_count": 48,
   "metadata": {},
   "outputs": [
    {
     "data": {
      "text/html": [
       "<pre>[[-0.965],\n",
       " [-0.0748, -0.676],\n",
       " [-1.99, -0.0625],\n",
       " [0.0831, 0.514, -0.844, 0.557],\n",
       " [0.279, 0.125],\n",
       " [0.398],\n",
       " [0.656, 1.68, 0.812],\n",
       " [1.16, 0.824, -0.362, 0.847],\n",
       " [1.92, 2.06],\n",
       " [0.0138, 1.08, 0.0705, -0.736],\n",
       " ...,\n",
       " [-1.23, -0.935, -0.882],\n",
       " [-0.196, 0.398, -0.656, 0.954],\n",
       " [-0.449],\n",
       " [0.626, -0.545],\n",
       " [-0.193, 0.0301, 0.146],\n",
       " [0.435, 0.59, 0.48],\n",
       " [-0.647, 0.361],\n",
       " [-2.44],\n",
       " [1.93, 2.23]]\n",
       "--------------------------------\n",
       "type: 67264 * var * float32</pre>"
      ],
      "text/plain": [
       "<Array [[-0.965], [...], ..., [1.93, 2.23]] type='67264 * var * float32'>"
      ]
     },
     "execution_count": 48,
     "metadata": {},
     "output_type": "execute_result"
    }
   ],
   "source": [
    "lepton_eta_truth"
   ]
  },
  {
   "cell_type": "code",
   "execution_count": 49,
   "metadata": {},
   "outputs": [
    {
     "data": {
      "text/plain": [
       "array([-1.,  0.,  0.])"
      ]
     },
     "execution_count": 49,
     "metadata": {},
     "output_type": "execute_result"
    }
   ],
   "source": [
    "b[7]"
   ]
  },
  {
   "cell_type": "code",
   "execution_count": 50,
   "metadata": {},
   "outputs": [
    {
     "data": {
      "text/plain": [
       "array([-1.,  0.,  0.])"
      ]
     },
     "execution_count": 50,
     "metadata": {},
     "output_type": "execute_result"
    }
   ],
   "source": [
    "a[7]"
   ]
  },
  {
   "cell_type": "code",
   "execution_count": 51,
   "metadata": {},
   "outputs": [],
   "source": [
    "#matched = new_method(lepton_vector_padded, lepton_truth_vector)\n",
    "lepton_charge = old_method(lepton_eta, lepton_eta_truth)\n"
   ]
  },
  {
   "cell_type": "code",
   "execution_count": 83,
   "metadata": {},
   "outputs": [],
   "source": [
    "positive = lepton_charge == 1\n",
    "negative = lepton_charge == -1\n",
    "positive[np.cumsum(positive, axis=1)>1] = False\n",
    "negative[np.cumsum(negative, axis=1)>1] = False\n",
    "#this ensures that each sub array only has 1 True\n",
    "# takes the first lepton in each sub array that matches the expected charge\n",
    "lepton_labels = 2*(positive & w_minus[:,None]) + 5*(positive & ~w_minus[:,None])\n",
    "neutrino_labels = 3*w_minus[:,None] + 6*(~w_minus[:,None])\n",
    "VertexID_data = np.concatenate((jet_labels, lepton_labels, neutrino_labels), axis=1)"
   ]
  },
  {
   "cell_type": "code",
   "execution_count": 53,
   "metadata": {},
   "outputs": [],
   "source": [
    "jet_id = pad_variable(ak.full_like(jet_pt, 1), pad_to_jet)"
   ]
  },
  {
   "cell_type": "markdown",
   "metadata": {},
   "source": [
    "***Parsing into HyPER***"
   ]
  },
  {
   "cell_type": "code",
   "execution_count": 85,
   "metadata": {},
   "outputs": [],
   "source": [
    "neutrino = vector.zip({'pt':pad_variable(met_met, 1), 'eta':pad_variable(met_eta, 1), 'phi':pad_variable(met_phi, 1), 'm' :np.zeros((length, 1))})"
   ]
  },
  {
   "cell_type": "code",
   "execution_count": 87,
   "metadata": {},
   "outputs": [],
   "source": [
    "global_dt   = np.dtype([('njet', np.float32), ('nbTagged', np.float32)])\n",
    "global_data = np.zeros((len(njet), 1), dtype=global_dt)\n",
    "global_data['njet']     = njet[:,None]\n",
    "global_data['nbTagged'] = np.sum(jet_btag, axis=1)[:,None]\n",
    "\n",
    "node_dt  = np.dtype([('e', np.float32), ('eta', np.float32), ('phi', np.float32), ('pt', np.float32), ('btag', np.float32), ('charge', np.float32), ('id', np.float32)])\n",
    "jet_data = np.zeros((len(njet), pad_to_jet + pad_lepton+1), dtype=node_dt)\n",
    "\n",
    "jet_data['pt']   = np.concatenate((jet_vectors_padded.pt, lepton_vector_padded.pt, neutrino.pt), axis=1)\n",
    "jet_data['eta']  = np.concatenate((pad_variable(jet_eta, pad_to_jet), pad_variable(lepton_eta, pad_lepton), neutrino.eta), axis=1)\n",
    "jet_data['phi']  = np.concatenate((jet_vectors_padded.phi, lepton_vector_padded.phi, neutrino.phi), axis=1)\n",
    "jet_data['e']    = np.concatenate((jet_vectors_padded.e, lepton_vector_padded.e, neutrino.e), axis=1)\n",
    "jet_data['btag'] = np.concatenate((pad_variable(jet_btag, pad_to_jet), np.zeros((length, pad_lepton+1))), axis=1)\n",
    "jet_data['charge'] = np.concatenate((np.zeros((length, pad_to_jet)), lepton_charge, np.zeros((length,1))), axis=1)\n",
    "lepton_id = pad_variable(np.concatenate((ak.full_like(el_pt, -1), ak.full_like(mu_pt, -2)),axis=1), pad_lepton)\n",
    "jet_id = pad_variable(ak.full_like(jet_pt, 1), pad_to_jet)\n",
    "jet_data['id']     = np.concatenate((jet_id, lepton_id, np.zeros((length, 1))), axis=1)\n",
    "\n",
    "\n",
    "h5_file = h5py.File(path+'single_lepton.h5', 'w')\n",
    "inputs_group = h5_file.create_group('INPUTS')\n",
    "labels_group = h5_file.create_group('LABELS')\n",
    "\n",
    "inputs_group.create_dataset(\"jet\", data=jet_data)\n",
    "inputs_group.create_dataset(\"global\", data=global_data)\n",
    "labels_group.create_dataset(\"VertexID\", data=VertexID_data)\n",
    "\n",
    "h5_file.close()\n"
   ]
  },
  {
   "cell_type": "code",
   "execution_count": 56,
   "metadata": {},
   "outputs": [
    {
     "data": {
      "text/plain": [
       "array([[4.],\n",
       "       [4.],\n",
       "       [5.],\n",
       "       ...,\n",
       "       [6.],\n",
       "       [4.],\n",
       "       [4.]], dtype=float32)"
      ]
     },
     "execution_count": 56,
     "metadata": {},
     "output_type": "execute_result"
    }
   ],
   "source": [
    "global_data['njet']"
   ]
  },
  {
   "cell_type": "markdown",
   "metadata": {},
   "source": [
    "***how to find vertexID?***\n",
    "- want to concatenate the vertexID from the jets with that for the leptons\n",
    "- use array of wm to check when to look for a positive or negative lepton\n",
    "- then if exactly 1 lepton that matches this, add this (or take first lepton that matches this in each list?)\n",
    "- reconstruct neutrinos and add this data"
   ]
  },
  {
   "cell_type": "markdown",
   "metadata": {},
   "source": [
    "set mass of w as 80 \n",
    "reconstruct neutrino 4 momenta using this and the met data\n"
   ]
  },
  {
   "cell_type": "markdown",
   "metadata": {},
   "source": [
    "***what to do with events with multiple leptons?***\n",
    "-shouldn't cut them out since we don't know which is relevent\n",
    "- coiuld be from a photon radiated\n",
    "\n"
   ]
  },
  {
   "cell_type": "markdown",
   "metadata": {},
   "source": [
    "neurtrino - array of size 1\n",
    "- create 4 vector form energy, phi, eta and m=0\n"
   ]
  },
  {
   "cell_type": "code",
   "execution_count": 67,
   "metadata": {},
   "outputs": [
    {
     "data": {
      "text/html": [
       "<pre>[[{rho: 40.9, phi: -0.8, eta: 4.14, tau: 0}],\n",
       " [{rho: 59.2, phi: 3.11, eta: 1.79, tau: 0}],\n",
       " [{rho: 71, phi: -1.39, eta: -4.79, tau: 0}],\n",
       " [{rho: 84.9, phi: 1.92, eta: 3.45, tau: 0}],\n",
       " [{rho: 10.8, phi: 2.46, eta: -3.83, tau: 0}],\n",
       " [{rho: 4.47, phi: -0.472, eta: -5.23, tau: 0}],\n",
       " [{rho: 141, phi: 1.09, eta: -2.41, tau: 0}],\n",
       " [{rho: 61.3, phi: 1.49, eta: 0.781, tau: 0}],\n",
       " [{rho: 65.6, phi: 3.06, eta: -3.28, tau: 0}],\n",
       " [{rho: 89.6, phi: 1.23, eta: 2.37, tau: 0}],\n",
       " ...,\n",
       " [{rho: 29.5, phi: 0.974, eta: 2.58, tau: 0}],\n",
       " [{rho: 17.9, phi: 2.72, eta: 4.31, tau: 0}],\n",
       " [{rho: 120, phi: -0.192, eta: -1.26, tau: 0}],\n",
       " [{rho: 59.7, phi: 2.75, eta: 2.04, tau: 0}],\n",
       " [{rho: 43, phi: 1.43, eta: -1.51, tau: 0}],\n",
       " [{rho: 46.5, phi: 1.89, eta: 2.86, tau: 0}],\n",
       " [{rho: 112, phi: 2.18, eta: 2.23, tau: 0}],\n",
       " [{rho: 37.8, phi: 1.78, eta: 4.12, tau: 0}],\n",
       " [{rho: 117, phi: -0.0884, eta: 0.129, tau: 0}]]\n",
       "------------------------------------------------\n",
       "type: 67264 * var * Momentum4D[\n",
       "    rho: float32,\n",
       "    phi: float32,\n",
       "    eta: float32,\n",
       "    tau: float32\n",
       "]</pre>"
      ],
      "text/plain": [
       "<MomentumArray4D [[{rho: 40.9, phi: -0.8, ...}], ...] type='67264 * var * M...'>"
      ]
     },
     "execution_count": 67,
     "metadata": {},
     "output_type": "execute_result"
    }
   ],
   "source": [
    "nu_m = ak.full_like(met_met, 0)\n",
    "neutrino = vector.zip({'pt':met_met, 'eta':met_eta, 'phi':met_phi, 'm' :nu_m})"
   ]
  }
 ],
 "metadata": {
  "kernelspec": {
   "display_name": "Python 3",
   "language": "python",
   "name": "python3"
  },
  "language_info": {
   "codemirror_mode": {
    "name": "ipython",
    "version": 3
   },
   "file_extension": ".py",
   "mimetype": "text/x-python",
   "name": "python",
   "nbconvert_exporter": "python",
   "pygments_lexer": "ipython3",
   "version": "3.11.2"
  }
 },
 "nbformat": 4,
 "nbformat_minor": 2
}
